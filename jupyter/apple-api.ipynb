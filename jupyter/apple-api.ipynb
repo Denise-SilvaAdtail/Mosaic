{
 "cells": [
  {
   "cell_type": "code",
   "execution_count": null,
   "metadata": {},
   "outputs": [],
   "source": [
    "## docs\n",
    "# appstoreconnect - https://pypi.org/project/appstoreconnect/\n",
    "# api - https://developer.apple.com/documentation/appstoreconnectapi"
   ]
  },
  {
   "cell_type": "code",
   "execution_count": null,
   "metadata": {},
   "outputs": [],
   "source": [
    "# instalando libs\n",
    "!pip install appstoreconnect\n",
    "!pip install google-cloud-secret-manager\n",
    "!pip install pandas-gbq"
   ]
  },
  {
   "cell_type": "code",
   "execution_count": null,
   "metadata": {},
   "outputs": [],
   "source": [
    "# importando libs\n",
    "import pandas as pd\n",
    "import pandas_gbq\n",
    "\n",
    "from datetime import datetime, timedelta\n",
    "from appstoreconnect import Api, UserRole\n",
    "from google.cloud import secretmanager"
   ]
  },
  {
   "cell_type": "code",
   "execution_count": null,
   "metadata": {},
   "outputs": [],
   "source": [
    "# declarando função para consuno do KMS (KeyManager no GCP)\n",
    "\n",
    "def keygcp(secret_id, project_id=\"dev-stalse\"):\n",
    "    \"\"\" \n",
    "    Função para consumir as chaves secretas que estão cadastradas no GCP\n",
    "    \n",
    "    - secret_id é o nome da chave, exemplo: msc-issuerid-apple\n",
    "                                             |       |     |\n",
    "                                             |       |     |--> API\n",
    "                                             |       |\n",
    "                                             |       |--> variavel desejada\n",
    "                                             |\n",
    "                                             |--> abreviação do nome do cliente (Mosaic = msc)\n",
    "\n",
    "    - projetct_id está por default o projeto \"dev-stalse\", mas se for necessário poderá ser alterado na chamada da função\n",
    "    \"\"\"\n",
    "    \n",
    "    # declarando variaveis para uso na API KMS\n",
    "    _secret_id = secret_id\n",
    "    _project_id = project_id\n",
    "    \n",
    "    # Incializando client KMS\n",
    "    secretmanager_client = secretmanager.SecretManagerServiceClient()\n",
    "\n",
    "    # requisitando KMS\n",
    "    response=secretmanager_client.access_secret_version(\n",
    "        name=f'projects/{_project_id}/secrets/{_secret_id}/versions/latest' # ultima versao da key\n",
    "    )\n",
    "\n",
    "    # retornando valor da secret\n",
    "    key = response.payload.data.decode(\"UTF-8\")\n",
    "    return key"
   ]
  },
  {
   "cell_type": "code",
   "execution_count": null,
   "metadata": {},
   "outputs": [],
   "source": [
    "# consumindo chaves do KMS para usar na chamada da API e do report\n",
    "issuer_id = keygcp('msc-issuerid-apple') # id único da Mosaic dentro da plataforma Apple\n",
    "key_id = keygcp('msc-keyid-apple') # id único do usuário dados@stalse\n",
    "path_to_key_file = keygcp('msc-privatekey-apple') # chave privada criada a partir do key_id\n",
    "vendor_number = keygcp('msc-vendor-apple') # id da mosaic para criar o relatório 'download_sales_and_trends_reports'"
   ]
  },
  {
   "cell_type": "code",
   "execution_count": null,
   "metadata": {},
   "outputs": [],
   "source": [
    "# criando client do appstoreconnect com as variáveis do KMS\n",
    "api = Api(key_id, path_to_key_file, issuer_id)"
   ]
  },
  {
   "cell_type": "code",
   "execution_count": null,
   "metadata": {},
   "outputs": [],
   "source": [
    "# filtrando data para processar sempre d-1\n",
    "hoje = datetime.now() # data de hoje\n",
    "ontem = hoje - timedelta(1) # calculando d-1\n",
    "ontem = ontem.strftime('%Y-%m-%d') # formatando data(d-1) para usar na váriavel 'reportDate'\n",
    "\n",
    "# validando se a data(d-1) contém informação\n",
    "try:\n",
    "    # realizando o 'download sales and trends reports'\n",
    "    report = api.download_sales_and_trends_reports(\n",
    "    filters={'frequency': 'DAILY',\n",
    "             'reportSubType': 'SUMMARY',\n",
    "             'reportType': 'SALES',\n",
    "             'vendorNumber': vendor_number,\n",
    "             'reportDate': ontem}\n",
    "    ,save_to='report.csv')\n",
    "    \n",
    "    # lendo o csv para crianção do df\n",
    "    csv = pd.read_csv(\"report.csv\", encoding='utf-8', sep='\\t', low_memory=False, on_bad_lines='skip', skipinitialspace=True)\n",
    "    # criando df\n",
    "    df_report = pd.DataFrame(data=csv)\n",
    "    print('Processado os dados do dia {}'.format(ontem))\n",
    "\n",
    "# se não conter informação no report\n",
    "except:\n",
    "    print('Não houve dados para o dia {}'.format(ontem))"
   ]
  },
  {
   "cell_type": "code",
   "execution_count": null,
   "metadata": {},
   "outputs": [],
   "source": [
    "# validando se o csv contém informação\n",
    "try:\n",
    "    # criando csv para colocar os dados no df\n",
    "    df_report.to_csv(\"report.csv\", sep=\";\", index=False)\n",
    "\n",
    "    csv = pd.read_csv(\"report.csv\", encoding='utf-8', sep=';', low_memory=False, on_bad_lines='skip', skipinitialspace=True)\n",
    "    \n",
    "    # renomeando colunas incompátiveis com o bq\n",
    "    csv.rename(columns={'Provider Country': 'Provider_Country', \n",
    "                'Product Type Identifier': 'Product_Type_Identifier', \n",
    "                'Developer Proceeds': 'Developer_Proceeds',\n",
    "                'Begin Date': 'Begin_Date',\n",
    "                'End Date': 'End_Date',\n",
    "                'Customer Currency': 'Customer_Currency',\n",
    "                'Country Code': 'Country_Code',\n",
    "                'Currency of Proceeds': 'Currency_of_Proceeds',\n",
    "                'Apple Identifier': 'Apple_Identifier',\n",
    "                'Customer Price': 'Customer_Price',\n",
    "                'Promo Code': 'Promo_Code',\n",
    "                'Parent Identifier': 'Parent_Identifier',\n",
    "                'Supported Platforms': 'Supported_Platforms',\n",
    "                'Proceeds Reason': 'Proceeds_Reason',\n",
    "                'Preserved Pricing': 'Preserved_Pricing',\n",
    "                'Order Type': 'Order_Type'}, inplace=True)\n",
    "    \n",
    "# se não conter informação\n",
    "except:\n",
    "    print('Não houve dados para o dia {}'.format(ontem))"
   ]
  },
  {
   "cell_type": "code",
   "execution_count": null,
   "metadata": {},
   "outputs": [],
   "source": [
    "# inserindo os dados no bq\n",
    "print('Pronto para inserir os dados no BigQuery.')\n",
    "\n",
    "# validando se o csv contém informação\n",
    "try:\n",
    "    print('Inserindo {} linhas a tabela de dados agregados.'.format(len(csv)))\n",
    "\n",
    "    pandas_gbq.to_gbq(csv, \n",
    "                        'nutrisafras_apple.app_installations',\n",
    "                        project_id='mosaic-fertilizantes',\n",
    "                        if_exists='append',\n",
    "                        table_schema=[\n",
    "                        {'name': 'Provider','type': 'STRING'},\n",
    "                        {'name': 'Provider_Country','type': 'STRING'},\n",
    "                        {'name': 'SKU','type': 'STRING'},\n",
    "                        {'name': 'Developer','type': 'STRING'},\n",
    "                        {'name': 'Title','type': 'STRING'},\n",
    "                        {'name': 'Version','type': 'STRING'},\n",
    "                        {'name': 'Product_Type_Identifier','type': 'STRING'},\n",
    "                        {'name': 'Units','type': 'INTEGER'},\n",
    "                        {'name': 'Developer_Proceeds','type': 'FLOAT'},\n",
    "                        {'name': 'Begin_Date','type': 'STRING'},\n",
    "                        {'name': 'End_Date','type': 'STRING'},\n",
    "                        {'name': 'Customer_Currency','type': 'STRING'},\n",
    "                        {'name': 'Country_Code','type': 'STRING'},\n",
    "                        {'name': 'Currency_of_Proceeds','type': 'STRING'},\n",
    "                        {'name': 'Apple_Identifier','type': 'INTEGER'},\n",
    "                        {'name': 'Customer_Price','type': 'FLOAT'},\n",
    "                        {'name': 'Promo_Code','type': 'FLOAT'},\n",
    "                        {'name': 'Parent_Identifier','type': 'FLOAT'},\n",
    "                        {'name': 'Subscription','type': 'FLOAT'},\n",
    "                        {'name': 'Period','type': 'FLOAT'},\n",
    "                        {'name': 'Category','type': 'STRING'},\n",
    "                        {'name': 'CMB','type': 'FLOAT'},\n",
    "                        {'name': 'Device','type': 'STRING'},\n",
    "                        {'name': 'Supported_Platforms','type': 'STRING'},\n",
    "                        {'name': 'Proceeds_Reason','type': 'FLOAT'},\n",
    "                        {'name': 'Preserved_Pricing','type': 'FLOAT'},\n",
    "                        {'name': 'Client','type': 'FLOAT'},\n",
    "                        {'name': 'Order_Type','type': 'FLOAT'}\n",
    "                        ],\n",
    "                        location='us-east4',\n",
    "                        progress_bar=True,\n",
    "                        api_method='load_csv')\n",
    "\n",
    "    print('Todas as {} linhas foram inseridas na tabela.'.format(len(csv)))\n",
    "        \n",
    "    print('Script executado com sucesso.')\n",
    "\n",
    "# se não conter informação   \n",
    "except:\n",
    "    print('Não houve dados para o dia {}'.format(ontem))"
   ]
  }
 ],
 "metadata": {
  "interpreter": {
   "hash": "7d41ed749fb933bd49b2ad5aad56929cef562b7637f21432338a9391e095fd83"
  },
  "kernelspec": {
   "display_name": "Python 3.10.4 64-bit",
   "language": "python",
   "name": "python3"
  },
  "language_info": {
   "codemirror_mode": {
    "name": "ipython",
    "version": 3
   },
   "file_extension": ".py",
   "mimetype": "text/x-python",
   "name": "python",
   "nbconvert_exporter": "python",
   "pygments_lexer": "ipython3",
   "version": "3.10.4"
  }
 },
 "nbformat": 4,
 "nbformat_minor": 4
}
